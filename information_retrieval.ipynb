{
 "cells": [
  {
   "cell_type": "markdown",
   "metadata": {
    "id": "uR06GixxKfKD"
   },
   "source": [
    "# This project is built using PyTorch's [TorchRec](https://pytorch.org/torchrec/setup-torchrec.html)"
   ]
  },
  {
   "cell_type": "code",
   "execution_count": 69,
   "metadata": {
    "id": "szoD4zGF_cRq"
   },
   "outputs": [
    {
     "name": "stdout",
     "output_type": "stream",
     "text": [
      "Training Baseline Model...\n"
     ]
    },
    {
     "name": "stderr",
     "output_type": "stream",
     "text": [
      "100%|█████████████████████████████████████████████████| 1840/1840 [02:43<00:00, 11.25it/s]\n"
     ]
    },
    {
     "name": "stdout",
     "output_type": "stream",
     "text": [
      "Epoch 1/10, Loss: 1.59, Val Loss: 1.27\n"
     ]
    },
    {
     "name": "stderr",
     "output_type": "stream",
     "text": [
      "100%|█████████████████████████████████████████████████| 1840/1840 [02:45<00:00, 11.14it/s]\n"
     ]
    },
    {
     "name": "stdout",
     "output_type": "stream",
     "text": [
      "Epoch 2/10, Loss: 1.09, Val Loss: 0.98\n"
     ]
    },
    {
     "name": "stderr",
     "output_type": "stream",
     "text": [
      "100%|█████████████████████████████████████████████████| 1840/1840 [02:51<00:00, 10.75it/s]\n"
     ]
    },
    {
     "name": "stdout",
     "output_type": "stream",
     "text": [
      "Epoch 3/10, Loss: 0.89, Val Loss: 0.88\n"
     ]
    },
    {
     "name": "stderr",
     "output_type": "stream",
     "text": [
      "100%|█████████████████████████████████████████████████| 1840/1840 [02:37<00:00, 11.72it/s]\n"
     ]
    },
    {
     "name": "stdout",
     "output_type": "stream",
     "text": [
      "Epoch 4/10, Loss: 0.80, Val Loss: 0.83\n"
     ]
    },
    {
     "name": "stderr",
     "output_type": "stream",
     "text": [
      "100%|█████████████████████████████████████████████████| 1840/1840 [02:44<00:00, 11.18it/s]\n"
     ]
    },
    {
     "name": "stdout",
     "output_type": "stream",
     "text": [
      "Epoch 5/10, Loss: 0.75, Val Loss: 0.79\n"
     ]
    },
    {
     "name": "stderr",
     "output_type": "stream",
     "text": [
      "100%|█████████████████████████████████████████████████| 1840/1840 [02:33<00:00, 11.96it/s]\n"
     ]
    },
    {
     "name": "stdout",
     "output_type": "stream",
     "text": [
      "Epoch 6/10, Loss: 0.70, Val Loss: 0.75\n"
     ]
    },
    {
     "name": "stderr",
     "output_type": "stream",
     "text": [
      "100%|█████████████████████████████████████████████████| 1840/1840 [02:43<00:00, 11.28it/s]\n"
     ]
    },
    {
     "name": "stdout",
     "output_type": "stream",
     "text": [
      "Epoch 7/10, Loss: 0.61, Val Loss: 0.66\n"
     ]
    },
    {
     "name": "stderr",
     "output_type": "stream",
     "text": [
      "100%|█████████████████████████████████████████████████| 1840/1840 [02:36<00:00, 11.76it/s]\n"
     ]
    },
    {
     "name": "stdout",
     "output_type": "stream",
     "text": [
      "Epoch 8/10, Loss: 0.51, Val Loss: 0.57\n"
     ]
    },
    {
     "name": "stderr",
     "output_type": "stream",
     "text": [
      "100%|█████████████████████████████████████████████████| 1840/1840 [02:40<00:00, 11.45it/s]\n"
     ]
    },
    {
     "name": "stdout",
     "output_type": "stream",
     "text": [
      "Epoch 9/10, Loss: 0.43, Val Loss: 0.51\n"
     ]
    },
    {
     "name": "stderr",
     "output_type": "stream",
     "text": [
      "100%|█████████████████████████████████████████████████| 1840/1840 [02:47<00:00, 11.01it/s]\n"
     ]
    },
    {
     "name": "stdout",
     "output_type": "stream",
     "text": [
      "Epoch 10/10, Loss: 0.37, Val Loss: 0.47\n"
     ]
    },
    {
     "name": "stderr",
     "output_type": "stream",
     "text": [
      "100%|█████████████████████████████████████████████████| 1840/1840 [02:44<00:00, 11.16it/s]\n"
     ]
    },
    {
     "name": "stdout",
     "output_type": "stream",
     "text": [
      "Epoch 11/10, Loss: 0.34, Val Loss: 0.44\n"
     ]
    },
    {
     "data": {
      "image/png": "[encoded data removed]",
      "text/plain": [
       "<Figure size 1000x500 with 1 Axes>"
      ]
     },
     "metadata": {},
     "output_type": "display_data"
    }
   ],
   "source": [
    "print(\"Training Baseline Model...\")\n",
    "train_model(\n",
    "    baseline_model,\n",
    "    train_loader,\n",
    "    lr=0.001,\n",
    "    num_epochs=10,\n",
    "    device=device,\n",
    ")\n"
   ]
  },
  {
   "cell_type": "markdown",
   "metadata": {
    "id": "oB9y_CNIKBUo"
   },
   "source": [
    "This method is too slow! TODO: Find another way of splitting the dataset into train and test, making sure that all users appear on both the train and test set."
   ]
  },
  {
   "cell_type": "code",
   "execution_count": 92,
   "metadata": {},
   "outputs": [
    {
     "data": {
      "text/html": [
       "<div><style>\n",
       ".dataframe > thead > tr,\n",
       ".dataframe > tbody > tr {\n",
       "  text-align: right;\n",
       "  white-space: pre-wrap;\n",
       "}\n",
       "</style>\n",
       "<small>shape: (18, 7)</small><table border=\"1\" class=\"dataframe\"><thead><tr><th>app_id</th><th>helpful</th><th>funny</th><th>is_recommended</th><th>hours</th><th>user_id</th><th>review_id</th></tr><tr><td>i32</td><td>i64</td><td>i64</td><td>i8</td><td>f32</td><td>i32</td><td>i64</td></tr></thead><tbody><tr><td>3807</td><td>5</td><td>0</td><td>1</td><td>110.199997</td><td>232</td><td>12293233</td></tr><tr><td>15745</td><td>0</td><td>0</td><td>1</td><td>3.0</td><td>232</td><td>38393731</td></tr><tr><td>20</td><td>6</td><td>2</td><td>1</td><td>34.0</td><td>232</td><td>38430844</td></tr><tr><td>1112</td><td>10</td><td>2</td><td>1</td><td>214.0</td><td>232</td><td>38506322</td></tr><tr><td>2512</td><td>4</td><td>5</td><td>0</td><td>10.0</td><td>232</td><td>38572799</td></tr><tr><td>&hellip;</td><td>&hellip;</td><td>&hellip;</td><td>&hellip;</td><td>&hellip;</td><td>&hellip;</td><td>&hellip;</td></tr><tr><td>21324</td><td>0</td><td>0</td><td>1</td><td>2.0</td><td>232</td><td>40840774</td></tr><tr><td>14815</td><td>6</td><td>3</td><td>1</td><td>68.0</td><td>232</td><td>40879040</td></tr><tr><td>1233</td><td>0</td><td>2</td><td>1</td><td>119.0</td><td>232</td><td>41037281</td></tr><tr><td>1212</td><td>6</td><td>2</td><td>1</td><td>2.0</td><td>232</td><td>41100835</td></tr><tr><td>7484</td><td>11</td><td>4</td><td>1</td><td>52.0</td><td>232</td><td>41139970</td></tr></tbody></table></div>"
      ],
      "text/plain": [
       "shape: (18, 7)\n",
       "┌────────┬─────────┬───────┬────────────────┬────────────┬─────────┬───────────┐\n",
       "│ app_id ┆ helpful ┆ funny ┆ is_recommended ┆ hours      ┆ user_id ┆ review_id │\n",
       "│ ---    ┆ ---     ┆ ---   ┆ ---            ┆ ---        ┆ ---     ┆ ---       │\n",
       "│ i32    ┆ i64     ┆ i64   ┆ i8             ┆ f32        ┆ i32     ┆ i64       │\n",
       "╞════════╪═════════╪═══════╪════════════════╪════════════╪═════════╪═══════════╡\n",
       "│ 3807   ┆ 5       ┆ 0     ┆ 1              ┆ 110.199997 ┆ 232     ┆ 12293233  │\n",
       "│ 15745  ┆ 0       ┆ 0     ┆ 1              ┆ 3.0        ┆ 232     ┆ 38393731  │\n",
       "│ 20     ┆ 6       ┆ 2     ┆ 1              ┆ 34.0       ┆ 232     ┆ 38430844  │\n",
       "│ 1112   ┆ 10      ┆ 2     ┆ 1              ┆ 214.0      ┆ 232     ┆ 38506322  │\n",
       "│ 2512   ┆ 4       ┆ 5     ┆ 0              ┆ 10.0       ┆ 232     ┆ 38572799  │\n",
       "│ …      ┆ …       ┆ …     ┆ …              ┆ …          ┆ …       ┆ …         │\n",
       "│ 21324  ┆ 0       ┆ 0     ┆ 1              ┆ 2.0        ┆ 232     ┆ 40840774  │\n",
       "│ 14815  ┆ 6       ┆ 3     ┆ 1              ┆ 68.0       ┆ 232     ┆ 40879040  │\n",
       "│ 1233   ┆ 0       ┆ 2     ┆ 1              ┆ 119.0      ┆ 232     ┆ 41037281  │\n",
       "│ 1212   ┆ 6       ┆ 2     ┆ 1              ┆ 2.0        ┆ 232     ┆ 41100835  │\n",
       "│ 7484   ┆ 11      ┆ 4     ┆ 1              ┆ 52.0       ┆ 232     ┆ 41139970  │\n",
       "└────────┴─────────┴───────┴────────────────┴────────────┴─────────┴───────────┘"
      ]
     },
     "execution_count": 92,
     "metadata": {},
     "output_type": "execute_result"
    }
   ],
   "source": [
    "result_df = test_data.with_columns(\n",
    "    pl.Series(\"pred\", baseline_predictions.numpy()),\n",
    ")\n",
    "test_id = 11\n",
    "train_data.filter(pl.col(\"user_id\") == rev_user_id_map[test_id])\n",
    "\n",
    "# result_df.with_columns(pl.when(pl.col(\"pred\") > 0.5).then(1).otherwise(0).alias(\"pred\"))\n"
   ]
  },
  {
   "cell_type": "code",
   "execution_count": 93,
   "metadata": {},
   "outputs": [
    {
     "data": {
      "text/html": [
       "<div><style>\n",
       ".dataframe > thead > tr,\n",
       ".dataframe > tbody > tr {\n",
       "  text-align: right;\n",
       "  white-space: pre-wrap;\n",
       "}\n",
       "</style>\n",
       "<small>shape: (1, 8)</small><table border=\"1\" class=\"dataframe\"><thead><tr><th>user_id</th><th>app_id</th><th>helpful</th><th>funny</th><th>is_recommended</th><th>hours</th><th>review_id</th><th>pred</th></tr><tr><td>i32</td><td>i32</td><td>i64</td><td>i64</td><td>i8</td><td>f32</td><td>i64</td><td>f32</td></tr></thead><tbody><tr><td>232</td><td>221040</td><td>0</td><td>0</td><td>0</td><td>2.4</td><td>14199417</td><td>0.84187</td></tr></tbody></table></div>"
      ],
      "text/plain": [
       "shape: (1, 8)\n",
       "┌─────────┬────────┬─────────┬───────┬────────────────┬───────┬───────────┬─────────┐\n",
       "│ user_id ┆ app_id ┆ helpful ┆ funny ┆ is_recommended ┆ hours ┆ review_id ┆ pred    │\n",
       "│ ---     ┆ ---    ┆ ---     ┆ ---   ┆ ---            ┆ ---   ┆ ---       ┆ ---     │\n",
       "│ i32     ┆ i32    ┆ i64     ┆ i64   ┆ i8             ┆ f32   ┆ i64       ┆ f32     │\n",
       "╞═════════╪════════╪═════════╪═══════╪════════════════╪═══════╪═══════════╪═════════╡\n",
       "│ 232     ┆ 221040 ┆ 0       ┆ 0     ┆ 0              ┆ 2.4   ┆ 14199417  ┆ 0.84187 │\n",
       "└─────────┴────────┴─────────┴───────┴────────────────┴───────┴───────────┴─────────┘"
      ]
     },
     "execution_count": 93,
     "metadata": {},
     "output_type": "execute_result"
    }
   ],
   "source": [
    "result_df = result_df.with_columns(\n",
    "    [\n",
    "        pl.col(\"user_id\").replace(rev_user_id_map).alias(\"user_id\"),\n",
    "        pl.col(\"app_id\").replace(rev_game_id_map).alias(\"app_id\"),\n",
    "    ]\n",
    ")\n",
    "result_df = result_df.filter(pl.col(\"user_id\") == rev_user_id_map[test_id])\n",
    "result_df.sort(\"pred\", descending=True)"
   ]
  }
 ],
 "metadata": {
  "colab": {
   "provenance": []
  },
  "kernelspec": {
   "display_name": "Python 3 (ipykernel)",
   "language": "python",
   "name": "python3"
  },
  "language_info": {
   "codemirror_mode": {
    "name": "ipython",
    "version": 3
   },
   "file_extension": ".py",
   "mimetype": "text/x-python",
   "name": "python",
   "nbconvert_exporter": "python",
   "pygments_lexer": "ipython3",
   "version": "3.12.5"
  }
 },
 "nbformat": 4,
 "nbformat_minor": 4
}
