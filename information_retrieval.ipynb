{
 "cells": [
  {
   "cell_type": "markdown",
   "metadata": {
    "id": "uR06GixxKfKD"
   },
   "source": [
    "# This project is built using PyTorch's [TorchRec](https://pytorch.org/torchrec/setup-torchrec.html)"
   ]
  },
  {
   "cell_type": "code",
   "execution_count": 2,
   "metadata": {},
   "outputs": [],
   "source": [
    "%load_ext autoreload\n",
    "%autoreload 2"
   ]
  },
  {
   "cell_type": "code",
   "execution_count": 10,
   "metadata": {
    "id": "szoD4zGF_cRq"
   },
   "outputs": [
    {
     "name": "stdout",
     "output_type": "stream",
     "text": [
      "Training...!!!\n"
     ]
    },
    {
     "data": {
      "application/vnd.jupyter.widget-view+json": {
       "model_id": "bbb70602757f4d9e9f9decdb584d8759",
       "version_major": 2,
       "version_minor": 0
      },
      "text/plain": [
       "  0%|          | 0/1306 [00:00<?, ?it/s]"
      ]
     },
     "metadata": {},
     "output_type": "display_data"
    },
    {
     "name": "stderr",
     "output_type": "stream",
     "text": [
      "Traceback (most recent call last):\n",
      "  File \"<string>\", line 1, in <module>\n",
      "  File \"/Users/david/.pyenv/versions/3.12.5/lib/python3.12/multiprocessing/spawn.py\", line 122, in spawn_main\n",
      "    exitcode = _main(fd, parent_sentinel)\n",
      "               ^^^^^^^^^^^^^^^^^^^^^^^^^^\n",
      "  File \"/Users/david/.pyenv/versions/3.12.5/lib/python3.12/multiprocessing/spawn.py\", line 132, in _main\n",
      "    self = reduction.pickle.load(from_parent)\n",
      "           ^^^^^^^^^^^^^^^^^^^^^^^^^^^^^^^^^^\n",
      "  File \"/Users/david/.pyenv/versions/3.12.5/lib/python3.12/site-packages/torch/__init__.py\", line 2016, in <module>\n",
      "    from torch import _VF as _VF, functional as functional  # usort: skip\n",
      "    ^^^^^^^^^^^^^^^^^^^^^^^^^^^^^^^^^^^^^^^^^^^^^^^^^^^^^^\n",
      "  File \"/Users/david/.pyenv/versions/3.12.5/lib/python3.12/site-packages/torch/functional.py\", line 7, in <module>\n",
      "Traceback (most recent call last):\n",
      "  File \"<string>\", line 1, in <module>\n",
      "  File \"/Users/david/.pyenv/versions/3.12.5/lib/python3.12/multiprocessing/spawn.py\", line 122, in spawn_main\n",
      "    import torch.nn.functional as F\n",
      "  File \"/Users/david/.pyenv/versions/3.12.5/lib/python3.12/site-packages/torch/nn/__init__.py\", line 8, in <module>\n",
      "    exitcode = _main(fd, parent_sentinel)\n",
      "               ^^^^^^^^^^^^^^^^^^^^^^^^^^\n",
      "  File \"/Users/david/.pyenv/versions/3.12.5/lib/python3.12/multiprocessing/spawn.py\", line 132, in _main\n",
      "    self = reduction.pickle.load(from_parent)\n",
      "    from torch.nn.modules import *  # usort: skip # noqa: F403\n",
      "    ^^^^^^^^^^^^^^^^^^^^^^^^^^^^^^\n",
      "  File \"/Users/david/.pyenv/versions/3.12.5/lib/python3.12/site-packages/torch/nn/modules/__init__.py\", line 1, in <module>\n",
      "           ^^^^^^^^^^^^^^^^^^^^^^^^^^^^^^^^^^\n",
      "  File \"/Users/david/.pyenv/versions/3.12.5/lib/python3.12/site-packages/torch/__init__.py\", line 961, in <module>\n",
      "    from .module import Module  # usort: skip\n",
      "    ^^^^^^^^^^^^^^^^^^^^^^^^^^\n",
      "  File \"/Users/david/.pyenv/versions/3.12.5/lib/python3.12/site-packages/torch/nn/modules/module.py\", line 29, in <module>\n",
      "    _import_extension_to_sys_modules(_C)\n",
      "  File \"/Users/david/.pyenv/versions/3.12.5/lib/python3.12/site-packages/torch/__init__.py\", line 959, in _import_extension_to_sys_modules\n",
      "    from torch.utils._python_dispatch import is_traceable_wrapper_subclass\n",
      "  File \"/Users/david/.pyenv/versions/3.12.5/lib/python3.12/site-packages/torch/utils/__init__.py\", line 8, in <module>\n",
      "    _import_extension_to_sys_modules(member, memo)\n",
      "  File \"/Users/david/.pyenv/versions/3.12.5/lib/python3.12/site-packages/torch/__init__.py\", line 955, in _import_extension_to_sys_modules\n",
      "    from torch.utils import (\n",
      "  File \"/Users/david/.pyenv/versions/3.12.5/lib/python3.12/site-packages/torch/utils/data/__init__.py\", line 1, in <module>\n",
      "    member_name = getattr(member, \"__name__\", \"\")\n",
      "    from torch.utils.data.dataloader import (\n",
      "                  ^^^^^^^^^^^^^^^^^^^^^^^^^^^^^^^\n",
      "  File \"/Users/david/.pyenv/versions/3.12.5/lib/python3.12/site-packages/torch/utils/data/dataloader.py\", line 21, in <module>\n",
      "KeyboardInterrupt\n",
      "    import torch.utils.data.graph_settings\n",
      "  File \"/Users/david/.pyenv/versions/3.12.5/lib/python3.12/site-packages/torch/utils/data/graph_settings.py\", line 8, in <module>\n",
      "    from torch.utils.data.datapipes.iter.sharding import (\n",
      "  File \"/Users/david/.pyenv/versions/3.12.5/lib/python3.12/site-packages/torch/utils/data/datapipes/__init__.py\", line 1, in <module>\n",
      "    from torch.utils.data.datapipes import dataframe as dataframe, iter as iter, map as map\n",
      "  File \"/Users/david/.pyenv/versions/3.12.5/lib/python3.12/site-packages/torch/utils/data/datapipes/dataframe/__init__.py\", line 1, in <module>\n",
      "    from torch.utils.data.datapipes.dataframe.dataframes import (\n",
      "  File \"/Users/david/.pyenv/versions/3.12.5/lib/python3.12/site-packages/torch/utils/data/datapipes/dataframe/dataframes.py\", line 4, in <module>\n",
      "    from torch.utils.data.datapipes._decorator import functional_datapipe\n",
      "  File \"/Users/david/.pyenv/versions/3.12.5/lib/python3.12/site-packages/torch/utils/data/datapipes/_decorator.py\", line 7, in <module>\n",
      "    from torch.utils.data.datapipes.datapipe import IterDataPipe, MapDataPipe\n",
      "  File \"/Users/david/.pyenv/versions/3.12.5/lib/python3.12/site-packages/torch/utils/data/datapipes/datapipe.py\", line 16, in <module>\n",
      "    dill = import_dill()\n",
      "           ^^^^^^^^^^^^^\n",
      "  File \"/Users/david/.pyenv/versions/3.12.5/lib/python3.12/site-packages/torch/utils/_import_utils.py\", line 36, in import_dill\n",
      "    import dill\n",
      "  File \"<frozen importlib._bootstrap>\", line 1360, in _find_and_load\n",
      "  File \"<frozen importlib._bootstrap>\", line 1331, in _find_and_load_unlocked\n",
      "  File \"<frozen importlib._bootstrap>\", line 935, in _load_unlocked\n",
      "  File \"<frozen importlib._bootstrap_external>\", line 991, in exec_module\n",
      "  File \"<frozen importlib._bootstrap_external>\", line 1087, in get_code\n",
      "  File \"<frozen importlib._bootstrap_external>\", line 1187, in get_data\n",
      "KeyboardInterrupt\n",
      "Traceback (most recent call last):\n",
      "  File \"<string>\", line 1, in <module>\n",
      "  File \"/Users/david/.pyenv/versions/3.12.5/lib/python3.12/multiprocessing/spawn.py\", line 122, in spawn_main\n",
      "    exitcode = _main(fd, parent_sentinel)\n",
      "               ^^^^^^^^^^^^^^^^^^^^^^^^^^\n",
      "  File \"/Users/david/.pyenv/versions/3.12.5/lib/python3.12/multiprocessing/spawn.py\", line 132, in _main\n",
      "    self = reduction.pickle.load(from_parent)\n",
      "           ^^^^^^^^^^^^^^^^^^^^^^^^^^^^^^^^^^\n",
      "  File \"/Users/david/.pyenv/versions/3.12.5/lib/python3.12/site-packages/torch/__init__.py\", line 370, in <module>\n",
      "    class SymInt:\n",
      "  File \"/Users/david/.pyenv/versions/3.12.5/lib/python3.12/site-packages/torch/__init__.py\", line 537, in SymInt\n",
      "    def as_integer_ratio(self) -> _Tuple[\"SymInt\", builtins.int]:\n",
      "                                  ~~~~~~^^^^^^^^^^^^^^^^^^^^^^^^\n",
      "  File \"/Users/david/.pyenv/versions/3.12.5/lib/python3.12/typing.py\", line 395, in inner\n",
      "    return _caches[func](*args, **kwds)\n",
      "           ^^^^^^^^^^^^^^^^^^^^^^^^^^^^\n",
      "  File \"/Users/david/.pyenv/versions/3.12.5/lib/python3.12/typing.py\", line 1585, in __getitem__\n",
      "    return self.copy_with(params)\n",
      "           ^^^^^^^^^^^^^^^^^^^^^^\n",
      "  File \"/Users/david/.pyenv/versions/3.12.5/lib/python3.12/typing.py\", line 1486, in copy_with\n",
      "    return _GenericAlias(self.__origin__, params,\n",
      "           ^^^^^^^^^^^^^^^^^^^^^^^^^^^^^^^^^^^^^^\n",
      "  File \"/Users/david/.pyenv/versions/3.12.5/lib/python3.12/typing.py\", line 1275, in __init__\n",
      "    self.__parameters__ = _collect_parameters(args)\n",
      "                          ^^^^^^^^^^^^^^^^^^^^^^^^^\n",
      "  File \"/Users/david/.local/lib/python3.12/site-packages/typing_extensions.py\", line 3041, in _collect_parameters\n",
      "    enforce_default_ordering = _has_generic_or_protocol_as_origin()\n",
      "                               ^^^^^^^^^^^^^^^^^^^^^^^^^^^^^^^^^^^^\n",
      "  File \"/Users/david/.local/lib/python3.12/site-packages/typing_extensions.py\", line 2965, in _has_generic_or_protocol_as_origin\n",
      "    if frame.f_globals.get(\"__name__\") != \"typing\":\n",
      "       ^^^^^^^^^^^^^^^^^^^^^^^^^^^^^^^\n",
      "KeyboardInterrupt\n",
      "Traceback (most recent call last):\n",
      "  File \"<string>\", line 1, in <module>\n",
      "  File \"/Users/david/.pyenv/versions/3.12.5/lib/python3.12/multiprocessing/spawn.py\", line 122, in spawn_main\n",
      "    exitcode = _main(fd, parent_sentinel)\n",
      "               ^^^^^^^^^^^^^^^^^^^^^^^^^^\n",
      "  File \"/Users/david/.pyenv/versions/3.12.5/lib/python3.12/multiprocessing/spawn.py\", line 132, in _main\n",
      "    self = reduction.pickle.load(from_parent)\n",
      "           ^^^^^^^^^^^^^^^^^^^^^^^^^^^^^^^^^^\n",
      "  File \"/Users/david/.pyenv/versions/3.12.5/lib/python3.12/site-packages/torch/__init__.py\", line 367, in <module>\n",
      "    from torch._C import *  # noqa: F403\n",
      "    ^^^^^^^^^^^^^^^^^^^^^^\n",
      "KeyboardInterrupt\n"
     ]
    },
    {
     "ename": "RuntimeError",
     "evalue": "DataLoader worker (pid 43829) is killed by signal: Interrupt: 2. ",
     "output_type": "error",
     "traceback": [
      "\u001b[0;31m---------------------------------------------------------------------------\u001b[0m",
      "\u001b[0;31mKeyboardInterrupt\u001b[0m                         Traceback (most recent call last)",
      "File \u001b[0;32m~/.pyenv/versions/3.12.5/lib/python3.12/site-packages/tqdm/std.py:1181\u001b[0m, in \u001b[0;36mtqdm.__iter__\u001b[0;34m(self)\u001b[0m\n\u001b[1;32m   1180\u001b[0m \u001b[38;5;28;01mtry\u001b[39;00m:\n\u001b[0;32m-> 1181\u001b[0m \u001b[30;48;5;222m    \u001b[39;49m\u001b[30;48;5;222;01mfor\u001b[39;49;00m\u001b[30;48;5;222m \u001b[39;49m\u001b[30;48;5;222mobj\u001b[39;49m\u001b[30;48;5;222m \u001b[39;49m\u001b[30;48;5;222;01min\u001b[39;49;00m\u001b[30;48;5;222m \u001b[39;49m\u001b[30;48;5;222miterable\u001b[39;49m\u001b[30;48;5;222m:\u001b[39;49m\n\u001b[1;32m   1182\u001b[0m \u001b[30;48;5;222m        \u001b[39;49m\u001b[30;48;5;222;01myield\u001b[39;49;00m\u001b[30;48;5;222m \u001b[39;49m\u001b[30;48;5;222mobj\u001b[39;49m\n",
      "File \u001b[0;32m~/.pyenv/versions/3.12.5/lib/python3.12/site-packages/torch/utils/data/dataloader.py:484\u001b[0m, in \u001b[0;36mDataLoader.__iter__\u001b[0;34m(self)\u001b[0m\n\u001b[1;32m    483\u001b[0m \u001b[38;5;28;01melse\u001b[39;00m:\n\u001b[0;32m--> 484\u001b[0m     \u001b[38;5;28;01mreturn\u001b[39;00m \u001b[30;48;5;222mself\u001b[39;49m\u001b[30;48;5;222m.\u001b[39;49m\u001b[30;48;5;222m_get_iterator\u001b[39;49m\u001b[30;48;5;222m(\u001b[39;49m\u001b[30;48;5;222m)\u001b[39;49m\n",
      "File \u001b[0;32m~/.pyenv/versions/3.12.5/lib/python3.12/site-packages/torch/utils/data/dataloader.py:415\u001b[0m, in \u001b[0;36mDataLoader._get_iterator\u001b[0;34m(self)\u001b[0m\n\u001b[1;32m    414\u001b[0m \u001b[38;5;28mself\u001b[39m\u001b[38;5;241m.\u001b[39mcheck_worker_number_rationality()\n\u001b[0;32m--> 415\u001b[0m \u001b[38;5;28;01mreturn\u001b[39;00m \u001b[30;48;5;222m_MultiProcessingDataLoaderIter\u001b[39;49m\u001b[30;48;5;222m(\u001b[39;49m\u001b[30;48;5;222mself\u001b[39;49m\u001b[30;48;5;222m)\u001b[39;49m\n",
      "File \u001b[0;32m~/.pyenv/versions/3.12.5/lib/python3.12/site-packages/torch/utils/data/dataloader.py:1191\u001b[0m, in \u001b[0;36m_MultiProcessingDataLoaderIter.__init__\u001b[0;34m(self, loader)\u001b[0m\n\u001b[1;32m   1190\u001b[0m \u001b[38;5;28mself\u001b[39m\u001b[38;5;241m.\u001b[39m_worker_pids_set \u001b[38;5;241m=\u001b[39m \u001b[38;5;28;01mTrue\u001b[39;00m\n\u001b[0;32m-> 1191\u001b[0m \u001b[30;48;5;222mself\u001b[39;49m\u001b[30;48;5;222m.\u001b[39;49m\u001b[30;48;5;222m_reset\u001b[39;49m\u001b[30;48;5;222m(\u001b[39;49m\u001b[30;48;5;222mloader\u001b[39;49m\u001b[30;48;5;222m,\u001b[39;49m\u001b[30;48;5;222m \u001b[39;49m\u001b[30;48;5;222mfirst_iter\u001b[39;49m\u001b[30;48;5;222m=\u001b[39;49m\u001b[30;48;5;222;01mTrue\u001b[39;49;00m\u001b[30;48;5;222m)\u001b[39;49m\n",
      "File \u001b[0;32m~/.pyenv/versions/3.12.5/lib/python3.12/site-packages/torch/utils/data/dataloader.py:1228\u001b[0m, in \u001b[0;36m_MultiProcessingDataLoaderIter._reset\u001b[0;34m(self, loader, first_iter)\u001b[0m\n\u001b[1;32m   1227\u001b[0m \u001b[38;5;28;01mfor\u001b[39;00m _ \u001b[38;5;129;01min\u001b[39;00m \u001b[38;5;28mrange\u001b[39m(\u001b[38;5;28mself\u001b[39m\u001b[38;5;241m.\u001b[39m_prefetch_factor \u001b[38;5;241m*\u001b[39m \u001b[38;5;28mself\u001b[39m\u001b[38;5;241m.\u001b[39m_num_workers):\n\u001b[0;32m-> 1228\u001b[0m     \u001b[30;48;5;222mself\u001b[39;49m\u001b[30;48;5;222m.\u001b[39;49m\u001b[30;48;5;222m_try_put_index\u001b[39;49m\u001b[30;48;5;222m(\u001b[39;49m\u001b[30;48;5;222m)\u001b[39;49m\n",
      "File \u001b[0;32m~/.pyenv/versions/3.12.5/lib/python3.12/site-packages/torch/utils/data/dataloader.py:1471\u001b[0m, in \u001b[0;36m_MultiProcessingDataLoaderIter._try_put_index\u001b[0;34m(self)\u001b[0m\n\u001b[1;32m   1470\u001b[0m \u001b[38;5;28;01mtry\u001b[39;00m:\n\u001b[0;32m-> 1471\u001b[0m     index \u001b[38;5;241m=\u001b[39m \u001b[30;48;5;222mself\u001b[39;49m\u001b[30;48;5;222m.\u001b[39;49m\u001b[30;48;5;222m_next_index\u001b[39;49m\u001b[30;48;5;222m(\u001b[39;49m\u001b[30;48;5;222m)\u001b[39;49m\n\u001b[1;32m   1472\u001b[0m \u001b[38;5;28;01mexcept\u001b[39;00m \u001b[38;5;167;01mStopIteration\u001b[39;00m:\n",
      "File \u001b[0;32m~/.pyenv/versions/3.12.5/lib/python3.12/site-packages/torch/utils/data/dataloader.py:691\u001b[0m, in \u001b[0;36m_BaseDataLoaderIter._next_index\u001b[0;34m(self)\u001b[0m\n\u001b[1;32m    690\u001b[0m \u001b[38;5;28;01mdef\u001b[39;00m \u001b[38;5;21m_next_index\u001b[39m(\u001b[38;5;28mself\u001b[39m):\n\u001b[0;32m--> 691\u001b[0m     \u001b[38;5;28;01mreturn\u001b[39;00m \u001b[30;48;5;222mnext\u001b[39;49m\u001b[30;48;5;222m(\u001b[39;49m\u001b[30;48;5;222mself\u001b[39;49m\u001b[30;48;5;222m.\u001b[39;49m\u001b[30;48;5;222m_sampler_iter\u001b[39;49m\u001b[30;48;5;222m)\u001b[39;49m\n",
      "File \u001b[0;32m~/.pyenv/versions/3.12.5/lib/python3.12/site-packages/torch/utils/data/sampler.py:347\u001b[0m, in \u001b[0;36mBatchSampler.__iter__\u001b[0;34m(self)\u001b[0m\n\u001b[1;32m    346\u001b[0m idx_in_batch \u001b[38;5;241m=\u001b[39m \u001b[38;5;241m0\u001b[39m\n\u001b[0;32m--> 347\u001b[0m \u001b[30;48;5;222m\u001b[39;49m\u001b[30;48;5;222;01mfor\u001b[39;49;00m\u001b[30;48;5;222m \u001b[39;49m\u001b[30;48;5;222midx\u001b[39;49m\u001b[30;48;5;222m \u001b[39;49m\u001b[30;48;5;222;01min\u001b[39;49;00m\u001b[30;48;5;222m \u001b[39;49m\u001b[30;48;5;222mself\u001b[39;49m\u001b[30;48;5;222m.\u001b[39;49m\u001b[30;48;5;222msampler\u001b[39;49m\u001b[30;48;5;222m:\u001b[39;49m\n\u001b[1;32m    348\u001b[0m \u001b[30;48;5;222m    \u001b[39;49m\u001b[30;48;5;222mbatch\u001b[39;49m\u001b[30;48;5;222m[\u001b[39;49m\u001b[30;48;5;222midx_in_batch\u001b[39;49m\u001b[30;48;5;222m]\u001b[39;49m\u001b[30;48;5;222m \u001b[39;49m\u001b[30;48;5;222m=\u001b[39;49m\u001b[30;48;5;222m \u001b[39;49m\u001b[30;48;5;222midx\u001b[39;49m\n",
      "File \u001b[0;32m~/.pyenv/versions/3.12.5/lib/python3.12/site-packages/torch/utils/data/sampler.py:197\u001b[0m, in \u001b[0;36mRandomSampler.__iter__\u001b[0;34m(self)\u001b[0m\n\u001b[1;32m    196\u001b[0m \u001b[38;5;28;01mfor\u001b[39;00m _ \u001b[38;5;129;01min\u001b[39;00m \u001b[38;5;28mrange\u001b[39m(\u001b[38;5;28mself\u001b[39m\u001b[38;5;241m.\u001b[39mnum_samples \u001b[38;5;241m/\u001b[39m\u001b[38;5;241m/\u001b[39m n):\n\u001b[0;32m--> 197\u001b[0m     \u001b[38;5;28;01myield from\u001b[39;00m \u001b[30;48;5;222mtorch\u001b[39;49m\u001b[30;48;5;222m.\u001b[39;49m\u001b[30;48;5;222mrandperm\u001b[39;49m\u001b[30;48;5;222m(\u001b[39;49m\u001b[30;48;5;222mn\u001b[39;49m\u001b[30;48;5;222m,\u001b[39;49m\u001b[30;48;5;222m \u001b[39;49m\u001b[30;48;5;222mgenerator\u001b[39;49m\u001b[30;48;5;222m=\u001b[39;49m\u001b[30;48;5;222mgenerator\u001b[39;49m\u001b[30;48;5;222m)\u001b[39;49m\u001b[30;48;5;222m.\u001b[39;49m\u001b[30;48;5;222mtolist\u001b[39;49m\u001b[30;48;5;222m(\u001b[39;49m\u001b[30;48;5;222m)\u001b[39;49m\n\u001b[1;32m    198\u001b[0m \u001b[38;5;28;01myield from\u001b[39;00m torch\u001b[38;5;241m.\u001b[39mrandperm(n, generator\u001b[38;5;241m=\u001b[39mgenerator)\u001b[38;5;241m.\u001b[39mtolist()[\n\u001b[1;32m    199\u001b[0m     : \u001b[38;5;28mself\u001b[39m\u001b[38;5;241m.\u001b[39mnum_samples \u001b[38;5;241m%\u001b[39m n\n\u001b[1;32m    200\u001b[0m ]\n",
      "\u001b[0;31mKeyboardInterrupt\u001b[0m: ",
      "\nDuring handling of the above exception, another exception occurred:\n",
      "\u001b[0;31mRuntimeError\u001b[0m                              Traceback (most recent call last)",
      "Cell \u001b[0;32mIn[10], line 2\u001b[0m\n\u001b[1;32m      1\u001b[0m \u001b[38;5;66;03m# baseline_model = TwoTowerModel(num_users, num_games, 20)\u001b[39;00m\n\u001b[0;32m----> 2\u001b[0m \u001b[30;48;5;222mtrain\u001b[39;49m\u001b[30;48;5;222m(\u001b[39;49m\n\u001b[1;32m      3\u001b[0m \u001b[30;48;5;222m    \u001b[39;49m\u001b[30;48;5;222mbaseline_model\u001b[39;49m\u001b[30;48;5;222m,\u001b[39;49m\n\u001b[1;32m      4\u001b[0m \u001b[30;48;5;222m    \u001b[39;49m\u001b[30;48;5;222mdatasets\u001b[39;49m\u001b[30;48;5;222m,\u001b[39;49m\n\u001b[1;32m      5\u001b[0m \u001b[30;48;5;222m    \u001b[39;49m\u001b[30;48;5;222mloss_fn\u001b[39;49m\u001b[30;48;5;222m=\u001b[39;49m\u001b[30;48;5;222mBCEWithLogitsLoss\u001b[39;49m\u001b[30;48;5;222m(\u001b[39;49m\u001b[30;48;5;222mpos_weight\u001b[39;49m\u001b[30;48;5;222m=\u001b[39;49m\u001b[30;48;5;222mclass_weights\u001b[39;49m\u001b[30;48;5;222m,\u001b[39;49m\u001b[30;48;5;222m \u001b[39;49m\u001b[30;48;5;222mreduction\u001b[39;49m\u001b[30;48;5;222m=\u001b[39;49m\u001b[30;48;5;222m\"\u001b[39;49m\u001b[30;48;5;222mnone\u001b[39;49m\u001b[30;48;5;222m\"\u001b[39;49m\u001b[30;48;5;222m)\u001b[39;49m\u001b[30;48;5;222m,\u001b[39;49m\n\u001b[1;32m      6\u001b[0m \u001b[30;48;5;222m    \u001b[39;49m\u001b[30;48;5;222mlr\u001b[39;49m\u001b[30;48;5;222m=\u001b[39;49m\u001b[30;48;5;222m0.001\u001b[39;49m\u001b[30;48;5;222m,\u001b[39;49m\n\u001b[1;32m      7\u001b[0m \u001b[30;48;5;222m    \u001b[39;49m\u001b[30;48;5;222mnum_epochs\u001b[39;49m\u001b[30;48;5;222m=\u001b[39;49m\u001b[30;48;5;222m3\u001b[39;49m\u001b[30;48;5;222m,\u001b[39;49m\n\u001b[1;32m      8\u001b[0m \u001b[30;48;5;222m    \u001b[39;49m\u001b[30;48;5;222mbatch_size\u001b[39;49m\u001b[30;48;5;222m=\u001b[39;49m\u001b[30;48;5;222m10000\u001b[39;49m\u001b[30;48;5;222m,\u001b[39;49m\n\u001b[1;32m      9\u001b[0m \u001b[30;48;5;222m    \u001b[39;49m\u001b[30;48;5;222mdevice\u001b[39;49m\u001b[30;48;5;222m=\u001b[39;49m\u001b[30;48;5;222mdevice\u001b[39;49m\u001b[30;48;5;222m,\u001b[39;49m\n\u001b[1;32m     10\u001b[0m \u001b[30;48;5;222m)\u001b[39;49m\n",
      "File \u001b[0;32m~/data_science/IR/Project/train.py:60\u001b[0m, in \u001b[0;36mtrain\u001b[0;34m(model, datasets, num_epochs, batch_size, lr, optimizer, loss_fn, device)\u001b[0m\n\u001b[1;32m     57\u001b[0m model\u001b[38;5;241m.\u001b[39mtrain()\n\u001b[1;32m     58\u001b[0m losses \u001b[38;5;241m=\u001b[39m []\n\u001b[0;32m---> 60\u001b[0m \u001b[30;48;5;222m\u001b[39;49m\u001b[30;48;5;222;01mfor\u001b[39;49;00m\u001b[30;48;5;222m \u001b[39;49m\u001b[30;48;5;222mX\u001b[39;49m\u001b[30;48;5;222m,\u001b[39;49m\u001b[30;48;5;222m \u001b[39;49m\u001b[30;48;5;222my\u001b[39;49m\u001b[30;48;5;222m \u001b[39;49m\u001b[30;48;5;222;01min\u001b[39;49;00m\u001b[30;48;5;222m \u001b[39;49m\u001b[30;48;5;222mtqdm\u001b[39;49m\u001b[30;48;5;222m(\u001b[39;49m\u001b[30;48;5;222mtrain_loader\u001b[39;49m\u001b[30;48;5;222m,\u001b[39;49m\u001b[30;48;5;222m \u001b[39;49m\u001b[30;48;5;222mleave\u001b[39;49m\u001b[30;48;5;222m=\u001b[39;49m\u001b[30;48;5;222;01mFalse\u001b[39;49;00m\u001b[30;48;5;222m)\u001b[39;49m\u001b[30;48;5;222m:\u001b[39;49m\n\u001b[1;32m     61\u001b[0m \u001b[30;48;5;222m    \u001b[39;49m\u001b[30;48;5;222muser_ids\u001b[39;49m\u001b[30;48;5;222m,\u001b[39;49m\u001b[30;48;5;222m \u001b[39;49m\u001b[30;48;5;222mgame_ids\u001b[39;49m\u001b[30;48;5;222m,\u001b[39;49m\u001b[30;48;5;222m \u001b[39;49m\u001b[30;48;5;222mweights\u001b[39;49m\u001b[30;48;5;222m \u001b[39;49m\u001b[30;48;5;222m=\u001b[39;49m\u001b[30;48;5;222m \u001b[39;49m\u001b[30;48;5;222mX\u001b[39;49m\u001b[30;48;5;222m.\u001b[39;49m\u001b[30;48;5;222mto\u001b[39;49m\u001b[30;48;5;222m(\u001b[39;49m\u001b[30;48;5;222mdevice\u001b[39;49m\u001b[30;48;5;222m)\u001b[39;49m\u001b[30;48;5;222m.\u001b[39;49m\u001b[30;48;5;222mT\u001b[39;49m\n\u001b[1;32m     62\u001b[0m \u001b[30;48;5;222m    \u001b[39;49m\u001b[30;48;5;222my\u001b[39;49m\u001b[30;48;5;222m \u001b[39;49m\u001b[30;48;5;222m=\u001b[39;49m\u001b[30;48;5;222m \u001b[39;49m\u001b[30;48;5;222my\u001b[39;49m\u001b[30;48;5;222m.\u001b[39;49m\u001b[30;48;5;222mto\u001b[39;49m\u001b[30;48;5;222m(\u001b[39;49m\u001b[30;48;5;222mdevice\u001b[39;49m\u001b[30;48;5;222m)\u001b[39;49m\n",
      "File \u001b[0;32m~/.pyenv/versions/3.12.5/lib/python3.12/site-packages/tqdm/notebook.py:250\u001b[0m, in \u001b[0;36mtqdm_notebook.__iter__\u001b[0;34m(self)\u001b[0m\n\u001b[1;32m    248\u001b[0m \u001b[38;5;28;01mtry\u001b[39;00m:\n\u001b[1;32m    249\u001b[0m     it \u001b[38;5;241m=\u001b[39m \u001b[38;5;28msuper\u001b[39m()\u001b[38;5;241m.\u001b[39m\u001b[38;5;21m__iter__\u001b[39m()\n\u001b[0;32m--> 250\u001b[0m \u001b[30;48;5;222m    \u001b[39;49m\u001b[30;48;5;222;01mfor\u001b[39;49;00m\u001b[30;48;5;222m \u001b[39;49m\u001b[30;48;5;222mobj\u001b[39;49m\u001b[30;48;5;222m \u001b[39;49m\u001b[30;48;5;222;01min\u001b[39;49;00m\u001b[30;48;5;222m \u001b[39;49m\u001b[30;48;5;222mit\u001b[39;49m\u001b[30;48;5;222m:\u001b[39;49m\n\u001b[1;32m    251\u001b[0m \u001b[30;48;5;222m        \u001b[39;49m\u001b[30;48;5;222;03m# return super(tqdm...) will not catch exception\u001b[39;49;00m\n\u001b[1;32m    252\u001b[0m \u001b[30;48;5;222m        \u001b[39;49m\u001b[30;48;5;222;01myield\u001b[39;49;00m\u001b[30;48;5;222m \u001b[39;49m\u001b[30;48;5;222mobj\u001b[39;49m\n\u001b[1;32m    253\u001b[0m \u001b[38;5;66;03m# NB: except ... [ as ...] breaks IPython async KeyboardInterrupt\u001b[39;00m\n",
      "File \u001b[0;32m~/.pyenv/versions/3.12.5/lib/python3.12/site-packages/tqdm/std.py:1196\u001b[0m, in \u001b[0;36mtqdm.__iter__\u001b[0;34m(self)\u001b[0m\n\u001b[1;32m   1194\u001b[0m \u001b[38;5;28;01mfinally\u001b[39;00m:\n\u001b[1;32m   1195\u001b[0m     \u001b[38;5;28mself\u001b[39m\u001b[38;5;241m.\u001b[39mn \u001b[38;5;241m=\u001b[39m n\n\u001b[0;32m-> 1196\u001b[0m     \u001b[30;48;5;222mself\u001b[39;49m\u001b[30;48;5;222m.\u001b[39;49m\u001b[30;48;5;222mclose\u001b[39;49m\u001b[30;48;5;222m(\u001b[39;49m\u001b[30;48;5;222m)\u001b[39;49m\n",
      "File \u001b[0;32m~/.pyenv/versions/3.12.5/lib/python3.12/site-packages/tqdm/notebook.py:272\u001b[0m, in \u001b[0;36mtqdm_notebook.close\u001b[0;34m(self)\u001b[0m\n\u001b[1;32m    268\u001b[0m         \u001b[38;5;28;01mraise\u001b[39;00m\n\u001b[1;32m    269\u001b[0m     \u001b[38;5;66;03m# NB: don't `finally: close()`\u001b[39;00m\n\u001b[1;32m    270\u001b[0m     \u001b[38;5;66;03m# since this could be a shared bar which the user will `reset()`\u001b[39;00m\n\u001b[0;32m--> 272\u001b[0m \u001b[38;5;28;01mdef\u001b[39;00m \u001b[38;5;21mclose\u001b[39m(\u001b[38;5;28mself\u001b[39m):\n\u001b[1;32m    273\u001b[0m     \u001b[38;5;28;01mif\u001b[39;00m \u001b[38;5;28mself\u001b[39m\u001b[38;5;241m.\u001b[39mdisable:\n\u001b[1;32m    274\u001b[0m         \u001b[38;5;28;01mreturn\u001b[39;00m\n",
      "File \u001b[0;32m~/.pyenv/versions/3.12.5/lib/python3.12/site-packages/torch/utils/data/_utils/signal_handling.py:73\u001b[0m, in \u001b[0;36m_set_SIGCHLD_handler.<locals>.handler\u001b[0;34m(signum, frame)\u001b[0m\n\u001b[1;32m     70\u001b[0m \u001b[38;5;28;01mdef\u001b[39;00m \u001b[38;5;21mhandler\u001b[39m(signum, frame):\n\u001b[1;32m     71\u001b[0m     \u001b[38;5;66;03m# This following call uses `waitid` with WNOHANG from C side. Therefore,\u001b[39;00m\n\u001b[1;32m     72\u001b[0m     \u001b[38;5;66;03m# Python can still get and update the process status successfully.\u001b[39;00m\n\u001b[0;32m---> 73\u001b[0m     \u001b[30;48;5;222m_error_if_any_worker_fails\u001b[39;49m\u001b[30;48;5;222m(\u001b[39;49m\u001b[30;48;5;222m)\u001b[39;49m\n\u001b[1;32m     74\u001b[0m     \u001b[38;5;28;01mif\u001b[39;00m previous_handler \u001b[38;5;129;01mis\u001b[39;00m \u001b[38;5;129;01mnot\u001b[39;00m \u001b[38;5;28;01mNone\u001b[39;00m:\n\u001b[1;32m     75\u001b[0m         \u001b[38;5;28;01massert\u001b[39;00m \u001b[38;5;28mcallable\u001b[39m(previous_handler)\n",
      "\u001b[0;31mRuntimeError\u001b[0m: DataLoader worker (pid 43829) is killed by signal: Interrupt: 2. "
     ]
    }
   ],
   "source": [
    "# baseline_model = TwoTowerModel(num_users, num_games, 20)\n",
    "train(\n",
    "    baseline_model,\n",
    "    datasets,\n",
    "    loss_fn=BCEWithLogitsLoss(pos_weight=class_weights, reduction=\"none\"),\n",
    "    lr=0.001,\n",
    "    num_epochs=3,\n",
    "    batch_size=10000,\n",
    "    device=device,\n",
    ")\n"
   ]
  },
  {
   "cell_type": "markdown",
   "metadata": {
    "id": "oB9y_CNIKBUo"
   },
   "source": [
    "This method is too slow! TODO: Find another way of splitting the dataset into train and test, making sure that all users appear on both the train and test set."
   ]
  },
  {
   "cell_type": "code",
   "execution_count": null,
   "metadata": {},
   "outputs": [],
   "source": [
    "result_df = test_data.with_columns(\n",
    "    pl.Series(\"pred\", baseline_predictions.numpy()),\n",
    ")\n",
    "test_id = 11\n",
    "train_data.filter(pl.col(\"user_id\") == rev_user_id_map[test_id])\n",
    "\n",
    "# result_df.with_columns(pl.when(pl.col(\"pred\") > 0.5).then(1).otherwise(0).alias(\"pred\"))\n"
   ]
  },
  {
   "cell_type": "code",
   "execution_count": null,
   "metadata": {},
   "outputs": [],
   "source": [
    "result_df = result_df.with_columns(\n",
    "    [\n",
    "        pl.col(\"user_id\").replace(rev_user_id_map).alias(\"user_id\"),\n",
    "        pl.col(\"app_id\").replace(rev_game_id_map).alias(\"app_id\"),\n",
    "    ]\n",
    ")\n",
    "result_df = result_df.filter(pl.col(\"user_id\") == rev_user_id_map[test_id])\n",
    "result_df.sort(\"pred\", descending=True)"
   ]
  },
  {
   "cell_type": "code",
   "execution_count": null,
   "metadata": {},
   "outputs": [],
   "source": []
  },
  {
   "cell_type": "code",
   "execution_count": null,
   "metadata": {},
   "outputs": [],
   "source": []
  }
 ],
 "metadata": {
  "colab": {
   "provenance": []
  },
  "kernelspec": {
   "display_name": "Python 3 (ipykernel)",
   "language": "python",
   "name": "python3"
  },
  "language_info": {
   "codemirror_mode": {
    "name": "ipython",
    "version": 3
   },
   "file_extension": ".py",
   "mimetype": "text/x-python",
   "name": "python",
   "nbconvert_exporter": "python",
   "pygments_lexer": "ipython3",
   "version": "3.12.5"
  }
 },
 "nbformat": 4,
 "nbformat_minor": 4
}
