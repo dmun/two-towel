{
 "cells": [
  {
   "cell_type": "markdown",
   "metadata": {
    "id": "uR06GixxKfKD"
   },
   "source": [
    "# This project is built using PyTorch's [TorchRec](https://pytorch.org/torchrec/setup-torchrec.html)"
   ]
  },
  {
   "cell_type": "code",
   "execution_count": 29,
   "metadata": {},
   "outputs": [
    {
     "name": "stdout",
     "output_type": "stream",
     "text": [
      "The autoreload extension is already loaded. To reload it, use:\n",
      "  %reload_ext autoreload\n"
     ]
    }
   ],
   "source": [
    "%load_ext autoreload\n",
    "%autoreload 2"
   ]
  },
  {
   "cell_type": "code",
   "execution_count": 7,
   "metadata": {
    "id": "szoD4zGF_cRq"
   },
   "outputs": [
    {
     "name": "stdout",
     "output_type": "stream",
     "text": [
      "Training...!!!\n"
     ]
    },
    {
     "data": {
      "application/vnd.jupyter.widget-view+json": {
       "model_id": "d485be2b9d6e42ecbe509451a40af6ee",
       "version_major": 2,
       "version_minor": 0
      },
      "text/plain": [
       "  0%|          | 0/1306 [00:00<?, ?it/s]"
      ]
     },
     "metadata": {},
     "output_type": "display_data"
    },
    {
     "ename": "KeyboardInterrupt",
     "evalue": "",
     "output_type": "error",
     "traceback": [
      "\u001b[0;31m---------------------------------------------------------------------------\u001b[0m",
      "\u001b[0;31mKeyboardInterrupt\u001b[0m                         Traceback (most recent call last)",
      "Cell \u001b[0;32mIn[7], line 3\u001b[0m\n\u001b[1;32m      1\u001b[0m \u001b[38;5;66;03m# %%\u001b[39;00m\n\u001b[1;32m      2\u001b[0m baseline_model \u001b[38;5;241m=\u001b[39m TwoTowerModel(num_users, num_games, \u001b[38;5;241m32\u001b[39m)\u001b[38;5;241m.\u001b[39mto(device)\n\u001b[0;32m----> 3\u001b[0m \u001b[30;48;5;222mtrain\u001b[39;49m\u001b[30;48;5;222m(\u001b[39;49m\n\u001b[1;32m      4\u001b[0m \u001b[30;48;5;222m    \u001b[39;49m\u001b[30;48;5;222mbaseline_model\u001b[39;49m\u001b[30;48;5;222m,\u001b[39;49m\n\u001b[1;32m      5\u001b[0m \u001b[30;48;5;222m    \u001b[39;49m\u001b[30;48;5;222mdatasets\u001b[39;49m\u001b[30;48;5;222m,\u001b[39;49m\n\u001b[1;32m      6\u001b[0m \u001b[30;48;5;222m    \u001b[39;49m\u001b[30;48;5;222mloss_fn\u001b[39;49m\u001b[30;48;5;222m=\u001b[39;49m\u001b[30;48;5;222mBCEWithLogitsLoss\u001b[39;49m\u001b[30;48;5;222m(\u001b[39;49m\u001b[30;48;5;222mpos_weight\u001b[39;49m\u001b[30;48;5;222m=\u001b[39;49m\u001b[30;48;5;222mclass_weights\u001b[39;49m\u001b[30;48;5;222m)\u001b[39;49m\u001b[30;48;5;222m,\u001b[39;49m\n\u001b[1;32m      7\u001b[0m \u001b[30;48;5;222m    \u001b[39;49m\u001b[30;48;5;222mlr\u001b[39;49m\u001b[30;48;5;222m=\u001b[39;49m\u001b[30;48;5;222m0.005\u001b[39;49m\u001b[30;48;5;222m,\u001b[39;49m\n\u001b[1;32m      8\u001b[0m \u001b[30;48;5;222m    \u001b[39;49m\u001b[30;48;5;222mnum_epochs\u001b[39;49m\u001b[30;48;5;222m=\u001b[39;49m\u001b[30;48;5;222m10\u001b[39;49m\u001b[30;48;5;222m,\u001b[39;49m\n\u001b[1;32m      9\u001b[0m \u001b[30;48;5;222m    \u001b[39;49m\u001b[30;48;5;222mbatch_size\u001b[39;49m\u001b[30;48;5;222m=\u001b[39;49m\u001b[30;48;5;222m10000\u001b[39;49m\u001b[30;48;5;222m,\u001b[39;49m\n\u001b[1;32m     10\u001b[0m \u001b[30;48;5;222m    \u001b[39;49m\u001b[30;48;5;222mdevice\u001b[39;49m\u001b[30;48;5;222m=\u001b[39;49m\u001b[30;48;5;222mdevice\u001b[39;49m\u001b[30;48;5;222m,\u001b[39;49m\n\u001b[1;32m     11\u001b[0m \u001b[30;48;5;222m)\u001b[39;49m\n",
      "File \u001b[0;32m~/data_science/IR/Project/train.py:89\u001b[0m, in \u001b[0;36mtrain\u001b[0;34m(model, datasets, num_epochs, batch_size, lr, optimizer, loss_fn, device)\u001b[0m\n\u001b[1;32m     86\u001b[0m model\u001b[38;5;241m.\u001b[39mtrain()\n\u001b[1;32m     87\u001b[0m total_loss \u001b[38;5;241m=\u001b[39m \u001b[38;5;241m0.0\u001b[39m\n\u001b[0;32m---> 89\u001b[0m \u001b[30;48;5;222m\u001b[39;49m\u001b[30;48;5;222;01mfor\u001b[39;49;00m\u001b[30;48;5;222m \u001b[39;49m\u001b[30;48;5;222muser_ids\u001b[39;49m\u001b[30;48;5;222m,\u001b[39;49m\u001b[30;48;5;222m \u001b[39;49m\u001b[30;48;5;222mgame_ids\u001b[39;49m\u001b[30;48;5;222m,\u001b[39;49m\u001b[30;48;5;222m \u001b[39;49m\u001b[30;48;5;222my\u001b[39;49m\u001b[30;48;5;222m \u001b[39;49m\u001b[30;48;5;222;01min\u001b[39;49;00m\u001b[30;48;5;222m \u001b[39;49m\u001b[30;48;5;222mtqdm\u001b[39;49m\u001b[30;48;5;222m(\u001b[39;49m\u001b[30;48;5;222mtrain_loader\u001b[39;49m\u001b[30;48;5;222m,\u001b[39;49m\u001b[30;48;5;222m \u001b[39;49m\u001b[30;48;5;222mleave\u001b[39;49m\u001b[30;48;5;222m=\u001b[39;49m\u001b[30;48;5;222;01mFalse\u001b[39;49;00m\u001b[30;48;5;222m)\u001b[39;49m\u001b[30;48;5;222m:\u001b[39;49m\n\u001b[1;32m     90\u001b[0m \u001b[30;48;5;222m    \u001b[39;49m\u001b[30;48;5;222;03m# user_ids = user_ids.to(device)\u001b[39;49;00m\n\u001b[1;32m     91\u001b[0m \u001b[30;48;5;222m    \u001b[39;49m\u001b[30;48;5;222;03m# game_ids = game_ids.to(device)\u001b[39;49;00m\n\u001b[1;32m     92\u001b[0m \u001b[30;48;5;222m    \u001b[39;49m\u001b[30;48;5;222;03m# y = y.to(device)\u001b[39;49;00m\n\u001b[1;32m     94\u001b[0m \u001b[30;48;5;222m    \u001b[39;49m\u001b[30;48;5;222moptimizer\u001b[39;49m\u001b[30;48;5;222m.\u001b[39;49m\u001b[30;48;5;222mzero_grad\u001b[39;49m\u001b[30;48;5;222m(\u001b[39;49m\u001b[30;48;5;222m)\u001b[39;49m\n\u001b[1;32m     96\u001b[0m \u001b[30;48;5;222m    \u001b[39;49m\u001b[30;48;5;222mout\u001b[39;49m\u001b[30;48;5;222m \u001b[39;49m\u001b[30;48;5;222m=\u001b[39;49m\u001b[30;48;5;222m \u001b[39;49m\u001b[30;48;5;222mmodel\u001b[39;49m\u001b[30;48;5;222m(\u001b[39;49m\u001b[30;48;5;222muser_ids\u001b[39;49m\u001b[30;48;5;222m,\u001b[39;49m\u001b[30;48;5;222m \u001b[39;49m\u001b[30;48;5;222mgame_ids\u001b[39;49m\u001b[30;48;5;222m)\u001b[39;49m\n",
      "File \u001b[0;32m~/.pyenv/versions/3.12.5/lib/python3.12/site-packages/tqdm/notebook.py:250\u001b[0m, in \u001b[0;36mtqdm_notebook.__iter__\u001b[0;34m(self)\u001b[0m\n\u001b[1;32m    248\u001b[0m \u001b[38;5;28;01mtry\u001b[39;00m:\n\u001b[1;32m    249\u001b[0m     it \u001b[38;5;241m=\u001b[39m \u001b[38;5;28msuper\u001b[39m()\u001b[38;5;241m.\u001b[39m\u001b[38;5;21m__iter__\u001b[39m()\n\u001b[0;32m--> 250\u001b[0m \u001b[30;48;5;222m    \u001b[39;49m\u001b[30;48;5;222;01mfor\u001b[39;49;00m\u001b[30;48;5;222m \u001b[39;49m\u001b[30;48;5;222mobj\u001b[39;49m\u001b[30;48;5;222m \u001b[39;49m\u001b[30;48;5;222;01min\u001b[39;49;00m\u001b[30;48;5;222m \u001b[39;49m\u001b[30;48;5;222mit\u001b[39;49m\u001b[30;48;5;222m:\u001b[39;49m\n\u001b[1;32m    251\u001b[0m \u001b[30;48;5;222m        \u001b[39;49m\u001b[30;48;5;222;03m# return super(tqdm...) will not catch exception\u001b[39;49;00m\n\u001b[1;32m    252\u001b[0m \u001b[30;48;5;222m        \u001b[39;49m\u001b[30;48;5;222;01myield\u001b[39;49;00m\u001b[30;48;5;222m \u001b[39;49m\u001b[30;48;5;222mobj\u001b[39;49m\n\u001b[1;32m    253\u001b[0m \u001b[38;5;66;03m# NB: except ... [ as ...] breaks IPython async KeyboardInterrupt\u001b[39;00m\n",
      "File \u001b[0;32m~/.pyenv/versions/3.12.5/lib/python3.12/site-packages/tqdm/std.py:1181\u001b[0m, in \u001b[0;36mtqdm.__iter__\u001b[0;34m(self)\u001b[0m\n\u001b[1;32m   1178\u001b[0m time \u001b[38;5;241m=\u001b[39m \u001b[38;5;28mself\u001b[39m\u001b[38;5;241m.\u001b[39m_time\n\u001b[1;32m   1180\u001b[0m \u001b[38;5;28;01mtry\u001b[39;00m:\n\u001b[0;32m-> 1181\u001b[0m \u001b[30;48;5;222m    \u001b[39;49m\u001b[30;48;5;222;01mfor\u001b[39;49;00m\u001b[30;48;5;222m \u001b[39;49m\u001b[30;48;5;222mobj\u001b[39;49m\u001b[30;48;5;222m \u001b[39;49m\u001b[30;48;5;222;01min\u001b[39;49;00m\u001b[30;48;5;222m \u001b[39;49m\u001b[30;48;5;222miterable\u001b[39;49m\u001b[30;48;5;222m:\u001b[39;49m\n\u001b[1;32m   1182\u001b[0m \u001b[30;48;5;222m        \u001b[39;49m\u001b[30;48;5;222;01myield\u001b[39;49;00m\u001b[30;48;5;222m \u001b[39;49m\u001b[30;48;5;222mobj\u001b[39;49m\n\u001b[1;32m   1183\u001b[0m \u001b[30;48;5;222m        \u001b[39;49m\u001b[30;48;5;222;03m# Update and possibly print the progressbar.\u001b[39;49;00m\n\u001b[1;32m   1184\u001b[0m \u001b[30;48;5;222m        \u001b[39;49m\u001b[30;48;5;222;03m# Note: does not call self.update(1) for speed optimisation.\u001b[39;49;00m\n",
      "File \u001b[0;32m~/.pyenv/versions/3.12.5/lib/python3.12/site-packages/torch/utils/data/dataloader.py:701\u001b[0m, in \u001b[0;36m_BaseDataLoaderIter.__next__\u001b[0;34m(self)\u001b[0m\n\u001b[1;32m    698\u001b[0m \u001b[38;5;28;01mif\u001b[39;00m \u001b[38;5;28mself\u001b[39m\u001b[38;5;241m.\u001b[39m_sampler_iter \u001b[38;5;129;01mis\u001b[39;00m \u001b[38;5;28;01mNone\u001b[39;00m:\n\u001b[1;32m    699\u001b[0m     \u001b[38;5;66;03m# TODO(https://github.com/pytorch/pytorch/issues/76750)\u001b[39;00m\n\u001b[1;32m    700\u001b[0m     \u001b[38;5;28mself\u001b[39m\u001b[38;5;241m.\u001b[39m_reset()  \u001b[38;5;66;03m# type: ignore[call-arg]\u001b[39;00m\n\u001b[0;32m--> 701\u001b[0m data \u001b[38;5;241m=\u001b[39m \u001b[30;48;5;222mself\u001b[39;49m\u001b[30;48;5;222m.\u001b[39;49m\u001b[30;48;5;222m_next_data\u001b[39;49m\u001b[30;48;5;222m(\u001b[39;49m\u001b[30;48;5;222m)\u001b[39;49m\n\u001b[1;32m    702\u001b[0m \u001b[38;5;28mself\u001b[39m\u001b[38;5;241m.\u001b[39m_num_yielded \u001b[38;5;241m+\u001b[39m\u001b[38;5;241m=\u001b[39m \u001b[38;5;241m1\u001b[39m\n\u001b[1;32m    703\u001b[0m \u001b[38;5;28;01mif\u001b[39;00m (\n\u001b[1;32m    704\u001b[0m     \u001b[38;5;28mself\u001b[39m\u001b[38;5;241m.\u001b[39m_dataset_kind \u001b[38;5;241m==\u001b[39m _DatasetKind\u001b[38;5;241m.\u001b[39mIterable\n\u001b[1;32m    705\u001b[0m     \u001b[38;5;129;01mand\u001b[39;00m \u001b[38;5;28mself\u001b[39m\u001b[38;5;241m.\u001b[39m_IterableDataset_len_called \u001b[38;5;129;01mis\u001b[39;00m \u001b[38;5;129;01mnot\u001b[39;00m \u001b[38;5;28;01mNone\u001b[39;00m\n\u001b[1;32m    706\u001b[0m     \u001b[38;5;129;01mand\u001b[39;00m \u001b[38;5;28mself\u001b[39m\u001b[38;5;241m.\u001b[39m_num_yielded \u001b[38;5;241m>\u001b[39m \u001b[38;5;28mself\u001b[39m\u001b[38;5;241m.\u001b[39m_IterableDataset_len_called\n\u001b[1;32m    707\u001b[0m ):\n",
      "File \u001b[0;32m~/.pyenv/versions/3.12.5/lib/python3.12/site-packages/torch/utils/data/dataloader.py:757\u001b[0m, in \u001b[0;36m_SingleProcessDataLoaderIter._next_data\u001b[0;34m(self)\u001b[0m\n\u001b[1;32m    755\u001b[0m \u001b[38;5;28;01mdef\u001b[39;00m \u001b[38;5;21m_next_data\u001b[39m(\u001b[38;5;28mself\u001b[39m):\n\u001b[1;32m    756\u001b[0m     index \u001b[38;5;241m=\u001b[39m \u001b[38;5;28mself\u001b[39m\u001b[38;5;241m.\u001b[39m_next_index()  \u001b[38;5;66;03m# may raise StopIteration\u001b[39;00m\n\u001b[0;32m--> 757\u001b[0m     data \u001b[38;5;241m=\u001b[39m \u001b[30;48;5;222mself\u001b[39;49m\u001b[30;48;5;222m.\u001b[39;49m\u001b[30;48;5;222m_dataset_fetcher\u001b[39;49m\u001b[30;48;5;222m.\u001b[39;49m\u001b[30;48;5;222mfetch\u001b[39;49m\u001b[30;48;5;222m(\u001b[39;49m\u001b[30;48;5;222mindex\u001b[39;49m\u001b[30;48;5;222m)\u001b[39;49m  \u001b[38;5;66;03m# may raise StopIteration\u001b[39;00m\n\u001b[1;32m    758\u001b[0m     \u001b[38;5;28;01mif\u001b[39;00m \u001b[38;5;28mself\u001b[39m\u001b[38;5;241m.\u001b[39m_pin_memory:\n\u001b[1;32m    759\u001b[0m         data \u001b[38;5;241m=\u001b[39m _utils\u001b[38;5;241m.\u001b[39mpin_memory\u001b[38;5;241m.\u001b[39mpin_memory(data, \u001b[38;5;28mself\u001b[39m\u001b[38;5;241m.\u001b[39m_pin_memory_device)\n",
      "File \u001b[0;32m~/.pyenv/versions/3.12.5/lib/python3.12/site-packages/torch/utils/data/_utils/fetch.py:55\u001b[0m, in \u001b[0;36m_MapDatasetFetcher.fetch\u001b[0;34m(self, possibly_batched_index)\u001b[0m\n\u001b[1;32m     53\u001b[0m \u001b[38;5;28;01melse\u001b[39;00m:\n\u001b[1;32m     54\u001b[0m     data \u001b[38;5;241m=\u001b[39m \u001b[38;5;28mself\u001b[39m\u001b[38;5;241m.\u001b[39mdataset[possibly_batched_index]\n\u001b[0;32m---> 55\u001b[0m \u001b[38;5;28;01mreturn\u001b[39;00m \u001b[30;48;5;222mself\u001b[39;49m\u001b[30;48;5;222m.\u001b[39;49m\u001b[30;48;5;222mcollate_fn\u001b[39;49m\u001b[30;48;5;222m(\u001b[39;49m\u001b[30;48;5;222mdata\u001b[39;49m\u001b[30;48;5;222m)\u001b[39;49m\n",
      "File \u001b[0;32m~/.pyenv/versions/3.12.5/lib/python3.12/site-packages/torch/utils/data/_utils/collate.py:398\u001b[0m, in \u001b[0;36mdefault_collate\u001b[0;34m(batch)\u001b[0m\n\u001b[1;32m    337\u001b[0m \u001b[38;5;28;01mdef\u001b[39;00m \u001b[38;5;21mdefault_collate\u001b[39m(batch):\n\u001b[1;32m    338\u001b[0m \u001b[38;5;250m    \u001b[39m\u001b[38;5;124mr\u001b[39m\u001b[38;5;124;03m\"\"\"\u001b[39;00m\n\u001b[1;32m    339\u001b[0m \u001b[38;5;124;03m    Take in a batch of data and put the elements within the batch into a tensor with an additional outer dimension - batch size.\u001b[39;00m\n\u001b[1;32m    340\u001b[0m \n\u001b[0;32m   (...)\u001b[0m\n\u001b[1;32m    396\u001b[0m \u001b[38;5;124;03m        >>> default_collate(batch)  # Handle `CustomType` automatically\u001b[39;00m\n\u001b[1;32m    397\u001b[0m \u001b[38;5;124;03m    \"\"\"\u001b[39;00m\n\u001b[0;32m--> 398\u001b[0m     \u001b[38;5;28;01mreturn\u001b[39;00m \u001b[30;48;5;222mcollate\u001b[39;49m\u001b[30;48;5;222m(\u001b[39;49m\u001b[30;48;5;222mbatch\u001b[39;49m\u001b[30;48;5;222m,\u001b[39;49m\u001b[30;48;5;222m \u001b[39;49m\u001b[30;48;5;222mcollate_fn_map\u001b[39;49m\u001b[30;48;5;222m=\u001b[39;49m\u001b[30;48;5;222mdefault_collate_fn_map\u001b[39;49m\u001b[30;48;5;222m)\u001b[39;49m\n",
      "File \u001b[0;32m~/.pyenv/versions/3.12.5/lib/python3.12/site-packages/torch/utils/data/_utils/collate.py:212\u001b[0m, in \u001b[0;36mcollate\u001b[0;34m(batch, collate_fn_map)\u001b[0m\n\u001b[1;32m    208\u001b[0m transposed \u001b[38;5;241m=\u001b[39m \u001b[38;5;28mlist\u001b[39m(\u001b[38;5;28mzip\u001b[39m(\u001b[38;5;241m*\u001b[39mbatch))  \u001b[38;5;66;03m# It may be accessed twice, so we use a list.\u001b[39;00m\n\u001b[1;32m    210\u001b[0m \u001b[38;5;28;01mif\u001b[39;00m \u001b[38;5;28misinstance\u001b[39m(elem, \u001b[38;5;28mtuple\u001b[39m):\n\u001b[1;32m    211\u001b[0m     \u001b[38;5;28;01mreturn\u001b[39;00m [\n\u001b[0;32m--> 212\u001b[0m         \u001b[30;48;5;222mcollate\u001b[39;49m\u001b[30;48;5;222m(\u001b[39;49m\u001b[30;48;5;222msamples\u001b[39;49m\u001b[30;48;5;222m,\u001b[39;49m\u001b[30;48;5;222m \u001b[39;49m\u001b[30;48;5;222mcollate_fn_map\u001b[39;49m\u001b[30;48;5;222m=\u001b[39;49m\u001b[30;48;5;222mcollate_fn_map\u001b[39;49m\u001b[30;48;5;222m)\u001b[39;49m\n\u001b[1;32m    213\u001b[0m         \u001b[38;5;28;01mfor\u001b[39;00m samples \u001b[38;5;129;01min\u001b[39;00m transposed\n\u001b[1;32m    214\u001b[0m     ]  \u001b[38;5;66;03m# Backwards compatibility.\u001b[39;00m\n\u001b[1;32m    215\u001b[0m \u001b[38;5;28;01melse\u001b[39;00m:\n\u001b[1;32m    216\u001b[0m     \u001b[38;5;28;01mtry\u001b[39;00m:\n",
      "File \u001b[0;32m~/.pyenv/versions/3.12.5/lib/python3.12/site-packages/torch/utils/data/_utils/collate.py:155\u001b[0m, in \u001b[0;36mcollate\u001b[0;34m(batch, collate_fn_map)\u001b[0m\n\u001b[1;32m    153\u001b[0m \u001b[38;5;28;01mif\u001b[39;00m collate_fn_map \u001b[38;5;129;01mis\u001b[39;00m \u001b[38;5;129;01mnot\u001b[39;00m \u001b[38;5;28;01mNone\u001b[39;00m:\n\u001b[1;32m    154\u001b[0m     \u001b[38;5;28;01mif\u001b[39;00m elem_type \u001b[38;5;129;01min\u001b[39;00m collate_fn_map:\n\u001b[0;32m--> 155\u001b[0m         \u001b[38;5;28;01mreturn\u001b[39;00m \u001b[30;48;5;222mcollate_fn_map\u001b[39;49m\u001b[30;48;5;222m[\u001b[39;49m\u001b[30;48;5;222melem_type\u001b[39;49m\u001b[30;48;5;222m]\u001b[39;49m\u001b[30;48;5;222m(\u001b[39;49m\u001b[30;48;5;222mbatch\u001b[39;49m\u001b[30;48;5;222m,\u001b[39;49m\u001b[30;48;5;222m \u001b[39;49m\u001b[30;48;5;222mcollate_fn_map\u001b[39;49m\u001b[30;48;5;222m=\u001b[39;49m\u001b[30;48;5;222mcollate_fn_map\u001b[39;49m\u001b[30;48;5;222m)\u001b[39;49m\n\u001b[1;32m    157\u001b[0m     \u001b[38;5;28;01mfor\u001b[39;00m collate_type \u001b[38;5;129;01min\u001b[39;00m collate_fn_map:\n\u001b[1;32m    158\u001b[0m         \u001b[38;5;28;01mif\u001b[39;00m \u001b[38;5;28misinstance\u001b[39m(elem, collate_type):\n",
      "File \u001b[0;32m~/.pyenv/versions/3.12.5/lib/python3.12/site-packages/torch/utils/data/_utils/collate.py:272\u001b[0m, in \u001b[0;36mcollate_tensor_fn\u001b[0;34m(batch, collate_fn_map)\u001b[0m\n\u001b[1;32m    270\u001b[0m     storage \u001b[38;5;241m=\u001b[39m elem\u001b[38;5;241m.\u001b[39m_typed_storage()\u001b[38;5;241m.\u001b[39m_new_shared(numel, device\u001b[38;5;241m=\u001b[39melem\u001b[38;5;241m.\u001b[39mdevice)\n\u001b[1;32m    271\u001b[0m     out \u001b[38;5;241m=\u001b[39m elem\u001b[38;5;241m.\u001b[39mnew(storage)\u001b[38;5;241m.\u001b[39mresize_(\u001b[38;5;28mlen\u001b[39m(batch), \u001b[38;5;241m*\u001b[39m\u001b[38;5;28mlist\u001b[39m(elem\u001b[38;5;241m.\u001b[39msize()))\n\u001b[0;32m--> 272\u001b[0m \u001b[38;5;28;01mreturn\u001b[39;00m \u001b[30;48;5;222mtorch\u001b[39;49m\u001b[30;48;5;222m.\u001b[39;49m\u001b[30;48;5;222mstack\u001b[39;49m\u001b[30;48;5;222m(\u001b[39;49m\u001b[30;48;5;222mbatch\u001b[39;49m\u001b[30;48;5;222m,\u001b[39;49m\u001b[30;48;5;222m \u001b[39;49m\u001b[30;48;5;222m0\u001b[39;49m\u001b[30;48;5;222m,\u001b[39;49m\u001b[30;48;5;222m \u001b[39;49m\u001b[30;48;5;222mout\u001b[39;49m\u001b[30;48;5;222m=\u001b[39;49m\u001b[30;48;5;222mout\u001b[39;49m\u001b[30;48;5;222m)\u001b[39;49m\n",
      "\u001b[0;31mKeyboardInterrupt\u001b[0m: "
     ]
    }
   ],
   "source": [
    "# %%\n",
    "baseline_model = TwoTowerModel(num_users, num_games, 32).to(device)\n",
    "train(\n",
    "    baseline_model,\n",
    "    datasets,\n",
    "    loss_fn=BCEWithLogitsLoss(pos_weight=class_weights),\n",
    "    lr=0.005,\n",
    "    num_epochs=10,\n",
    "    batch_size=10000,\n",
    "    device=device,\n",
    ")\n"
   ]
  },
  {
   "cell_type": "markdown",
   "metadata": {
    "id": "oB9y_CNIKBUo"
   },
   "source": [
    "This method is too slow! TODO: Find another way of splitting the dataset into train and test, making sure that all users appear on both the train and test set."
   ]
  },
  {
   "cell_type": "code",
   "execution_count": null,
   "metadata": {},
   "outputs": [],
   "source": [
    "result_df = test_data.with_columns(\n",
    "    pl.Series(\"pred\", baseline_predictions.numpy()),\n",
    ")\n",
    "test_id = 11\n",
    "train_data.filter(pl.col(\"user_id\") == rev_user_id_map[test_id])\n",
    "\n",
    "# result_df.with_columns(pl.when(pl.col(\"pred\") > 0.5).then(1).otherwise(0).alias(\"pred\"))\n"
   ]
  },
  {
   "cell_type": "code",
   "execution_count": null,
   "metadata": {},
   "outputs": [],
   "source": [
    "result_df = result_df.with_columns(\n",
    "    [\n",
    "        pl.col(\"user_id\").replace(rev_user_id_map).alias(\"user_id\"),\n",
    "        pl.col(\"app_id\").replace(rev_game_id_map).alias(\"app_id\"),\n",
    "    ]\n",
    ")\n",
    "result_df = result_df.filter(pl.col(\"user_id\") == rev_user_id_map[test_id])\n",
    "result_df.sort(\"pred\", descending=True)"
   ]
  },
  {
   "cell_type": "code",
   "execution_count": null,
   "metadata": {},
   "outputs": [],
   "source": []
  },
  {
   "cell_type": "code",
   "execution_count": null,
   "metadata": {},
   "outputs": [],
   "source": []
  }
 ],
 "metadata": {
  "colab": {
   "provenance": []
  },
  "kernelspec": {
   "display_name": "Python 3 (ipykernel)",
   "language": "python",
   "name": "python3"
  },
  "language_info": {
   "codemirror_mode": {
    "name": "ipython",
    "version": 3
   },
   "file_extension": ".py",
   "mimetype": "text/x-python",
   "name": "python",
   "nbconvert_exporter": "python",
   "pygments_lexer": "ipython3",
   "version": "3.12.5"
  }
 },
 "nbformat": 4,
 "nbformat_minor": 4
}
